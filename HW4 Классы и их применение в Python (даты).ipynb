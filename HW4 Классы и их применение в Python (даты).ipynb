{
 "cells": [
  {
   "cell_type": "markdown",
   "metadata": {},
   "source": [
    "### Задание 1\n",
    "\n",
    "Напишите функцию date_range, которая возвращает список дней между датами start_date и end_date. Даты должны вводиться в формате YYYY-MM-DD.\n",
    "\n",
    "### Задание 2\n",
    "Дополните функцию из первого задания проверкой на корректность дат. В случае неверного формата или если start_date > end_date должен возвращаться пустой список."
   ]
  },
  {
   "cell_type": "code",
   "execution_count": 2,
   "metadata": {},
   "outputs": [],
   "source": [
    "from datetime import timedelta\n",
    "from datetime import datetime"
   ]
  },
  {
   "cell_type": "code",
   "execution_count": 4,
   "metadata": {},
   "outputs": [],
   "source": [
    "# Можно было через while. \n",
    "def date_range():\n",
    "    try:\n",
    "        diff =datetime.strptime(end_date, '%Y-%m-%d')-datetime.strptime(start_date, '%Y-%m-%d')\n",
    "        # выводит разницу в днях // datetime.timedelta(days=4)\n",
    "        diff_between_date=int(str(diff).split(' ')[0])\n",
    "        # перевод в число // 4\n",
    "        if diff_between_date>0:\n",
    "            list_of_dates=[]\n",
    "            for i in range(diff_between_date):\n",
    "                list_of_dates.append((datetime.strptime(start_date, '%Y-%m-%d')+timedelta(days=i+1)).strftime('%Y-%m-%d'))\n",
    "            print(list_of_dates)\n",
    "        # цикл, в котором создается список дат. Сначала переводим в формат даты, после в требуемы формат - YYYY-MM-DD\n",
    "        else:\n",
    "            print('Becasue start_date > end_date ',[])\n",
    "    except:\n",
    "            print('epmty list, becasue start_date >= end_date ')\n",
    "        "
   ]
  },
  {
   "cell_type": "code",
   "execution_count": 10,
   "metadata": {},
   "outputs": [
    {
     "name": "stdout",
     "output_type": "stream",
     "text": [
      "epmty list, becasue start_date >= end_date \n"
     ]
    }
   ],
   "source": [
    "start_date = '2019-03-19'\n",
    "end_date = '2019-03-19'\n",
    "date_range()"
   ]
  },
  {
   "cell_type": "code",
   "execution_count": 11,
   "metadata": {},
   "outputs": [
    {
     "name": "stdout",
     "output_type": "stream",
     "text": [
      "['2019-03-16', '2019-03-17', '2019-03-18', '2019-03-19']\n"
     ]
    }
   ],
   "source": [
    "start_date = '2019-03-15'\n",
    "end_date = '2019-03-19'\n",
    "date_range()"
   ]
  },
  {
   "cell_type": "markdown",
   "metadata": {},
   "source": [
    " Скопипастил вариант,который разбирали на лекции. Оставил для истории)\n",
    "\n",
    "start_date_dt = datetime.strptime(start_date, '%Y-%m-%d')\n",
    "\n",
    "end_date_dt = datetime.strptime(end_date, '%Y-%m-%d')\n",
    "\n",
    "current_dt = start_date_dt\n",
    "\n",
    "while current_dt <= end_date_dt:\n",
    "    \n",
    "    print(current_dt.strftime('%Y-%m-%d'))\n",
    "        \n",
    "    current_dt += timedelta(days=1)"
   ]
  },
  {
   "cell_type": "markdown",
   "metadata": {},
   "source": [
    "### Задание 3\n",
    "\n",
    "Дан поток дат в формате YYYY-MM-DD, в которых встречаются некорректные значения:\n",
    "stream = [‘2018-04-02’, ‘2018-02-29’, ‘2018-19-02’]\n",
    "Напишите функцию, которая проверяет эти даты на корректность. Т. е. для каждой даты возвращает True (дата корректна) или False (некорректная дата)."
   ]
  },
  {
   "cell_type": "code",
   "execution_count": 12,
   "metadata": {},
   "outputs": [],
   "source": [
    "stream = ['2018-04-02', '2018-02-29', '2018-19-02','2018-19-35','2018-01-01']\n"
   ]
  },
  {
   "cell_type": "code",
   "execution_count": 13,
   "metadata": {},
   "outputs": [],
   "source": [
    "from datetime import datetime"
   ]
  },
  {
   "cell_type": "code",
   "execution_count": 14,
   "metadata": {},
   "outputs": [
    {
     "data": {
      "text/plain": [
       "datetime.datetime(2018, 4, 2, 0, 0)"
      ]
     },
     "execution_count": 14,
     "metadata": {},
     "output_type": "execute_result"
    }
   ],
   "source": [
    "datetime.strptime(stream[0], '%Y-%m-%d' )"
   ]
  },
  {
   "cell_type": "code",
   "execution_count": 15,
   "metadata": {},
   "outputs": [],
   "source": [
    "def correct_date():\n",
    "    a=[]\n",
    "    for i in range(len(stream)):\n",
    "        try:\n",
    "            datetime.strptime(stream[i], '%Y-%m-%d' ) \n",
    "            a.append(True)\n",
    "        except:\n",
    "            a.append(False)\n",
    "            continue\n",
    "            correct_date()\n",
    "    print(a)           \n",
    "        "
   ]
  },
  {
   "cell_type": "code",
   "execution_count": 16,
   "metadata": {},
   "outputs": [
    {
     "name": "stdout",
     "output_type": "stream",
     "text": [
      "[True, False, False, False, True]\n"
     ]
    }
   ],
   "source": [
    "correct_date()"
   ]
  },
  {
   "cell_type": "markdown",
   "metadata": {},
   "source": [
    "### Задание 4\n",
    "\n",
    "Напишите функцию, которая возвращает список дат с 1 по вчерашний день текущего месяца. Если дан 1 день месяца, то возвращается список дней прошлого месяца."
   ]
  },
  {
   "cell_type": "code",
   "execution_count": 18,
   "metadata": {},
   "outputs": [],
   "source": [
    "from datetime import datetime,timedelta\n",
    "\n",
    "def list_previous_days():\n",
    "    \n",
    "    input_date=datetime.strptime(date, '%Y-%m-%d')      # перевод в формат даты\n",
    "    first_day=input_date.strftime('%Y-%m-01')           # перый день текущего месяца в формате строк (нужно перевести в фомат даты)\n",
    "    first_day=datetime.strptime(first_day, '%Y-%m-%d')  # перевод в формат даты\n",
    "    \n",
    "    a=[]   # ведем нулевой список для добавления получившихся дат                                             \n",
    "    \n",
    "    if first_day<input_date:\n",
    "    \n",
    "        while first_day<input_date:\n",
    "            input_date=input_date+timedelta(days=-1)\n",
    "            a.append(input_date.strftime('%Y-%m-%d'))\n",
    "        print(sorted(a))\n",
    "    \n",
    "    else: \n",
    "        \n",
    "        last_day_of_privious_month = first_day-timedelta(days=1)                      # перейдем к предыдущему месяцу\n",
    "        first_day_of_privious_month = last_day_of_privious_month.strftime('%Y-%m-01') # первый день предыдущего месяца в фомате str\n",
    "        first_day_of_privious_month = datetime.strptime(first_day_of_privious_month, '%Y-%m-%d') #  перевод в формат datetime\n",
    "        \n",
    "        while first_day_of_privious_month<input_date:\n",
    "            input_date=input_date+timedelta(days=-1)\n",
    "            a.append(input_date.strftime('%Y-%m-%d'))\n",
    "        print(sorted(a))"
   ]
  },
  {
   "cell_type": "code",
   "execution_count": 19,
   "metadata": {},
   "outputs": [
    {
     "name": "stdout",
     "output_type": "stream",
     "text": [
      "['2019-02-01', '2019-02-02', '2019-02-03', '2019-02-04', '2019-02-05', '2019-02-06', '2019-02-07', '2019-02-08', '2019-02-09', '2019-02-10', '2019-02-11', '2019-02-12', '2019-02-13', '2019-02-14', '2019-02-15', '2019-02-16', '2019-02-17', '2019-02-18', '2019-02-19', '2019-02-20', '2019-02-21', '2019-02-22', '2019-02-23', '2019-02-24', '2019-02-25', '2019-02-26', '2019-02-27', '2019-02-28']\n"
     ]
    }
   ],
   "source": [
    "date = '2019-03-01' \n",
    "list_previous_days()"
   ]
  },
  {
   "cell_type": "code",
   "execution_count": 20,
   "metadata": {},
   "outputs": [
    {
     "name": "stdout",
     "output_type": "stream",
     "text": [
      "['2019-03-01', '2019-03-02', '2019-03-03', '2019-03-04', '2019-03-05', '2019-03-06', '2019-03-07', '2019-03-08', '2019-03-09']\n"
     ]
    }
   ],
   "source": [
    "date = '2019-03-10' \n",
    "list_previous_days()"
   ]
  },
  {
   "cell_type": "markdown",
   "metadata": {},
   "source": [
    "### Задание 5 \n",
    "\n",
    "Напишите функцию, которая возвращает точную дату в формате YYYY-MM-DD по фразе:\n",
    "\n",
    "‘today’ - сегодняшнюю дату\n",
    "\n",
    "‘last monday’ - прошлый понедельник\n",
    "\n",
    "‘last day’ - Последний день текущего месяца"
   ]
  },
  {
   "cell_type": "code",
   "execution_count": 33,
   "metadata": {},
   "outputs": [],
   "source": [
    "from datetime import datetime,timedelta\n",
    "import calendar\n",
    "from dateutil.relativedelta import relativedelta # c помощью этой библиотеки получилось прибавить месяц к дате"
   ]
  },
  {
   "cell_type": "code",
   "execution_count": 34,
   "metadata": {},
   "outputs": [],
   "source": [
    "def function(x):\n",
    "    if x == 'today':\n",
    "        print (datetime.today().strftime('%Y-%m-%d'))\n",
    "    if x == 'last monday':\n",
    "        print ( (datetime.today() - timedelta(days=datetime.today().weekday())).strftime('%Y-%m-%d'))\n",
    "        # datetime.today().weekday()-выводит порядковый номер дня недели, начиная с 0 // четверг = 3 \n",
    "    if x == 'last day':\n",
    "        next_month_first_day=(datetime.today()+relativedelta(months=1)).strftime('%Y-%m-01')\n",
    "        first_day=datetime.strptime(next_month_first_day,'%Y-%m-%d')\n",
    "        last_day=first_day-timedelta(days=1)\n",
    "        print(last_day.strftime('%Y-%m-%d'))\n",
    "        \n"
   ]
  },
  {
   "cell_type": "code",
   "execution_count": 39,
   "metadata": {},
   "outputs": [
    {
     "name": "stdout",
     "output_type": "stream",
     "text": [
      "2019-03-31\n"
     ]
    }
   ],
   "source": [
    "function('last day')"
   ]
  },
  {
   "cell_type": "code",
   "execution_count": 121,
   "metadata": {},
   "outputs": [
    {
     "name": "stdout",
     "output_type": "stream",
     "text": [
      "2019-03-21\n"
     ]
    }
   ],
   "source": [
    "function('today')"
   ]
  },
  {
   "cell_type": "code",
   "execution_count": 122,
   "metadata": {},
   "outputs": [
    {
     "name": "stdout",
     "output_type": "stream",
     "text": [
      "2019-03-18\n"
     ]
    }
   ],
   "source": [
    "function('last monday')"
   ]
  },
  {
   "cell_type": "code",
   "execution_count": null,
   "metadata": {},
   "outputs": [],
   "source": []
  }
 ],
 "metadata": {
  "kernelspec": {
   "display_name": "Python 3",
   "language": "python",
   "name": "python3"
  },
  "language_info": {
   "codemirror_mode": {
    "name": "ipython",
    "version": 3
   },
   "file_extension": ".py",
   "mimetype": "text/x-python",
   "name": "python",
   "nbconvert_exporter": "python",
   "pygments_lexer": "ipython3",
   "version": "3.7.1"
  }
 },
 "nbformat": 4,
 "nbformat_minor": 2
}
