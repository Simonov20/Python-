{
 "cells": [
  {
   "cell_type": "markdown",
   "metadata": {},
   "source": [
    "## Домашнее задание 2\n",
    "\n",
    "## Задание 1\n",
    "Дан список с визитами по городам и странам. Напишите код, который возвращает отфильтрованный список geo_logs, содержащий только визиты из России. Считайте, что список geo_logs легко помещается в оперативной памяти.\n",
    "geo_logs = [\n",
    "\t{'visit1': ['Москва', 'Россия']},\n",
    "\t{'visit2': ['Дели', 'Индия']},\n",
    "\t{'visit3': ['Владимир', 'Россия']},\n",
    "\t{'visit4': ['Лиссабон', 'Португалия']},\n",
    "\t{'visit5': ['Париж', 'Франция']},\n",
    "\t{'visit6': ['Лиссабон', 'Португалия']},\n",
    "\t{'visit7': ['Тула', 'Россия']},\n",
    "\t{'visit8': ['Тула', 'Россия']},\n",
    "\t{'visit9': ['Курск', 'Россия']},\n",
    "\t{'visit10': ['Архангельск', 'Россия']},\n",
    "]\n",
    "\n",
    "## Задание 2\n",
    "Выведите на экран все уникальные гео-ID из значений словаря ids. Т. е. список вида [213, 15, 54, 119, 98, 35]\n",
    "ids = {'user1': [213, 213, 213, 15, 213], 'user2': [54, 54, 119, 119, 119], 'user3': [213, 98, 98, 35]}\n",
    "\n",
    "## Задание 3\n",
    "Список поисковых запросов. Получить распределение количества слов в них. Т. е. поисковых запросов из одного слова 5%, из двух - 7%, из трех - 3% итд.\n",
    "queries = [\n",
    "\t'смотреть сериалы онлайн',\n",
    "\t'новости спорта',\n",
    "\t'афиша кино',\n",
    "\t'курс доллара',\n",
    "\t'сериалы этим летом',\n",
    "\t'курс по питону',\n",
    "\t'сериалы про спорт',\n",
    "]\n",
    "\n",
    "## Задание 4\n",
    "Дана статистика рекламных каналов по объемам продаж. Напишите скрипт, который возвращает название канала с максимальным объемом.\n",
    "Т. е. в данном примере скрипт должен возвращать 'yandex'.\n",
    "stats = {'facebook': 55, 'yandex': 120, 'vk': 115, 'google': 99, 'email': 42, 'ok': 98}\n",
    "\n",
    "## Задание 5\n",
    "Дан поток логов по количеству просмотренных страниц для каждого пользователя. Список отсортирован по ID пользователя. Вам необходимо написать алгоритм, который считает среднее значение просмотров на пользователя. Т. е. надо посчитать отношение суммы всех просмотров к количеству уникальных пользователей. Учтите, что весь список stream не помещается в оперативную память, т. е. его нужно обрабатывать поэлементно в цикле.\n",
    "stream = [\n",
    "\t'2018-01-01,user1,3',\n",
    "\t'2018-01-07,user1,4',\n",
    "\t'2018-03-29,user1,1',\n",
    "\t'2018-04-04,user1,13',\n",
    "\t'2018-01-05,user2,7',\n",
    "\t'2018-06-14,user3,4',\n",
    "\t'2018-07-02,user3,10',\n",
    "\t'2018-03-21,user4,19',\n",
    "\t'2018-03-22,user4,4',\n",
    "\t'2018-04-22,user4,8',\n",
    "\t'2018-05-03,user4,9',\n",
    "\t'2018-05-11,user4,11',\n",
    "]\n",
    "\n",
    "## Задание 6\n",
    "Дана статистика рекламных кампаний по дням. Напишите алгоритм, который по паре дата-кампания ищет значение численного столбца. Т. е. для даты '2018-01-01' и 'google' нужно получить число 25. Считайте, что все комбинации дата-кампания уникальны, а список stats легко помещается в оперативной памяти.\n",
    "stats = [\n",
    "\t['2018-01-01', 'google', 25],\n",
    "\t['2018-01-01', 'yandex', 65],\n",
    "\t['2018-01-01', 'market', 89],\n",
    "\t['2018-01-02', 'google', 574],\n",
    "\t['2018-01-02', 'yandex', 249],\n",
    "\t['2018-01-02', 'market', 994],\n",
    "\t['2018-01-03', 'google', 1843],\n",
    "\t['2018-01-03', 'yandex', 1327],\n",
    "\t['2018-01-03', 'market', 1764],\n",
    "]\n",
    "\n",
    "Бонусный вариант (делать его не обязательно)\n",
    "Рассмотрите обобщенный вариант этой задачи: имеется таблица из n столбцов. Первые n-1 столбцов - признаки (комбинации этих признаков в таблице уникальные). Последний столбец - значение. Вам необходимо по набору n-1 признаков найти соответствующую строчку в таблице и вернуть значение из правого столбца. Учтите, что исходная таблица может быть любого размера.\n",
    "\n",
    "Одно из применений задачи - объединение двух таблиц по n столбцов, одна из которых помещается в оперативной памяти. Например, 7 столбцов по 1 и 10 миллионов строк.\n"
   ]
  },
  {
   "cell_type": "markdown",
   "metadata": {},
   "source": [
    "## Задание 1 \n",
    "Дан список с визитами по городам и странам. Напишите код, который возвращает отфильтрованный список geo_logs, содержащий только визиты из России. Считайте, что список geo_logs легко помещается в оперативной памяти. geo_logs = [ {'visit1': ['Москва', 'Россия']}, {'visit2': ['Дели', 'Индия']}, {'visit3': ['Владимир', 'Россия']}, {'visit4': ['Лиссабон', 'Португалия']}, {'visit5': ['Париж', 'Франция']}, {'visit6': ['Лиссабон', 'Португалия']}, {'visit7': ['Тула', 'Россия']}, {'visit8': ['Тула', 'Россия']}, {'visit9': ['Курск', 'Россия']}, {'visit10': ['Архангельск', 'Россия']}, ]"
   ]
  },
  {
   "cell_type": "code",
   "execution_count": 133,
   "metadata": {},
   "outputs": [],
   "source": [
    "geo_logs = [\n",
    "    {\"visit1\": [\"Москва\", \"Россия\"]},\n",
    "    {\"visit2\": [\"Дели\", \"Индия\"]},\n",
    "    {\"visit3\": [\"Владимир\", \"Россия\"]},\n",
    "    {\"visit4\": [\"Лиссабон\", \"Португалия\"]},\n",
    "    {\"visit5\": [\"Париж\", \"Франция\"]},\n",
    "    {\"visit6\": [\"Лиссабон\", \"Португалия\"]},\n",
    "    {\"visit7\": [\"Тула\", \"Россия\"]},\n",
    "    {\"visit8\": [\"Тула\", \"Россия\"]},\n",
    "    {\"visit9\": [\"Курск\", \"Россия\"]},\n",
    "    {\"visit10\": [\"Архангельск\", \"Россия\"]},\n",
    "]"
   ]
  },
  {
   "cell_type": "markdown",
   "metadata": {},
   "source": [
    "### Подготовительные работы"
   ]
  },
  {
   "cell_type": "code",
   "execution_count": 2,
   "metadata": {},
   "outputs": [
    {
     "data": {
      "text/plain": [
       "list"
      ]
     },
     "execution_count": 2,
     "metadata": {},
     "output_type": "execute_result"
    }
   ],
   "source": [
    "type(geo_logs)"
   ]
  },
  {
   "cell_type": "code",
   "execution_count": 171,
   "metadata": {},
   "outputs": [
    {
     "data": {
      "text/plain": [
       "dict"
      ]
     },
     "execution_count": 171,
     "metadata": {},
     "output_type": "execute_result"
    }
   ],
   "source": [
    "type(geo_logs[0])"
   ]
  },
  {
   "cell_type": "code",
   "execution_count": 172,
   "metadata": {},
   "outputs": [
    {
     "data": {
      "text/plain": [
       "{'visit1': ['Москва', 'Россия']}"
      ]
     },
     "execution_count": 172,
     "metadata": {},
     "output_type": "execute_result"
    }
   ],
   "source": [
    "geo_logs[0]"
   ]
  },
  {
   "cell_type": "code",
   "execution_count": 173,
   "metadata": {},
   "outputs": [
    {
     "data": {
      "text/plain": [
       "['Москва', 'Россия']"
      ]
     },
     "execution_count": 173,
     "metadata": {},
     "output_type": "execute_result"
    }
   ],
   "source": [
    "# Как получить значения ключа в словаре\n",
    "gl2=gl1.get('visit1')\n",
    "gl2"
   ]
  },
  {
   "cell_type": "code",
   "execution_count": 174,
   "metadata": {},
   "outputs": [
    {
     "data": {
      "text/plain": [
       "True"
      ]
     },
     "execution_count": 174,
     "metadata": {},
     "output_type": "execute_result"
    }
   ],
   "source": [
    "# проверка присутствия определенного значения в списке ключа\n",
    "'Россия' in gl2"
   ]
  },
  {
   "cell_type": "markdown",
   "metadata": {},
   "source": [
    "### Процедура поиска визитов из России"
   ]
  },
  {
   "cell_type": "code",
   "execution_count": 175,
   "metadata": {},
   "outputs": [
    {
     "name": "stdout",
     "output_type": "stream",
     "text": [
      "[{'visit1': ['Москва', 'Россия']}, {'visit3': ['Владимир', 'Россия']}, {'visit7': ['Тула', 'Россия']}, {'visit8': ['Тула', 'Россия']}, {'visit9': ['Курск', 'Россия']}, {'visit10': ['Архангельск', 'Россия']}]\n"
     ]
    }
   ],
   "source": [
    "visit_from_Russia=[]\n",
    "for i in range(len(geo_logs)):\n",
    "    \n",
    "    for key,value in geo_logs[i].items():\n",
    "        if \"Россия\" in value:\n",
    "            visit_from_Russia.append(geo_logs[i])\n",
    "            \n",
    "print (visit_from_Russia)"
   ]
  },
  {
   "cell_type": "markdown",
   "metadata": {},
   "source": [
    "\n",
    "\n",
    "## Задание 2\n",
    "Выведите на экран все уникальные гео-ID из значений словаря ids. Т. е. список вида [213, 15, 54, 119, 98, 35] ids = {'user1': [213, 213, 213, 15, 213], 'user2': [54, 54, 119, 119, 119], 'user3': [213, 98, 98, 35]}"
   ]
  },
  {
   "cell_type": "code",
   "execution_count": 225,
   "metadata": {},
   "outputs": [
    {
     "data": {
      "text/plain": [
       "dict_values([[213, 213, 213, 15, 213], [54, 54, 119, 119, 119], [213, 98, 98, 35]])"
      ]
     },
     "execution_count": 225,
     "metadata": {},
     "output_type": "execute_result"
    }
   ],
   "source": [
    "# Извлекаем все значения из ключей\n",
    "ids = {'user1': [213, 213, 213, 15, 213], 'user2': [54, 54, 119, 119, 119], 'user3': [213, 98, 98, 35]}\n",
    "ids.values()"
   ]
  },
  {
   "cell_type": "code",
   "execution_count": 226,
   "metadata": {
    "scrolled": true
   },
   "outputs": [
    {
     "name": "stdout",
     "output_type": "stream",
     "text": [
      "Уникальные значения в словаре [98, 35, 15, 213, 54, 119]\n"
     ]
    }
   ],
   "source": [
    "# Идем по каждому значению словаря, составляя общий список. Далее с помощью set находим уникальные и снова преобразуем в список\n",
    "for i in ids.values():\n",
    "    s=s+i \n",
    "print('Уникальные значения в словаре', list(set(s)))"
   ]
  },
  {
   "cell_type": "markdown",
   "metadata": {},
   "source": [
    "## Задание 3\n",
    "Список поисковых запросов. Получить распределение количества слов в них. Т. е. поисковых запросов из одного слова 5%, из двух - 7%, из трех - 3% итд. queries = [ 'смотреть сериалы онлайн', 'новости спорта', 'афиша кино', 'курс доллара', 'сериалы этим летом', 'курс по питону', 'сериалы про спорт', ]"
   ]
  },
  {
   "cell_type": "code",
   "execution_count": 2,
   "metadata": {},
   "outputs": [],
   "source": [
    "queries = [ 'туту','смотреть сериалы онлайн', 'новости спорта', 'афиша кино', 'курс доллара', 'сериалы этим летом', 'курс по питону', 'сериалы про спорт', ]\n"
   ]
  },
  {
   "cell_type": "code",
   "execution_count": 3,
   "metadata": {},
   "outputs": [
    {
     "data": {
      "text/plain": [
       "8"
      ]
     },
     "execution_count": 3,
     "metadata": {},
     "output_type": "execute_result"
    }
   ],
   "source": [
    "# Кол-во всех запросов\n",
    "len(queries)"
   ]
  },
  {
   "cell_type": "code",
   "execution_count": 4,
   "metadata": {},
   "outputs": [
    {
     "data": {
      "text/plain": [
       "3"
      ]
     },
     "execution_count": 4,
     "metadata": {},
     "output_type": "execute_result"
    }
   ],
   "source": [
    "# Кол-во слов во втором запросе, как пример\n",
    "len(queries[1].split(' '))"
   ]
  },
  {
   "cell_type": "code",
   "execution_count": 5,
   "metadata": {},
   "outputs": [
    {
     "name": "stdout",
     "output_type": "stream",
     "text": [
      "[1, 3, 2, 2, 2, 3, 3, 3]\n"
     ]
    }
   ],
   "source": [
    "# Кол-во слов в каждом запросе\n",
    "count_words_queries=[]\n",
    "for i in range(len(queries)):\n",
    "    count_words_queries.append(len(queries[i].split(' ')))\n",
    "print(count_words_queries)   \n",
    "    "
   ]
  },
  {
   "cell_type": "code",
   "execution_count": 7,
   "metadata": {},
   "outputs": [
    {
     "data": {
      "text/plain": [
       "[1, 2, 3]"
      ]
     },
     "execution_count": 7,
     "metadata": {},
     "output_type": "execute_result"
    }
   ],
   "source": [
    "# Сколько слов было в запросах\n",
    "quantity_word=list(set(count_words_queries))\n",
    "quantity_word    "
   ]
  },
  {
   "cell_type": "code",
   "execution_count": 8,
   "metadata": {
    "scrolled": true
   },
   "outputs": [
    {
     "name": "stdout",
     "output_type": "stream",
     "text": [
      "Кол-во слов в запросе: 1 распределение: 12.5 %\n",
      "Кол-во слов в запросе: 2 распределение: 37.5 %\n",
      "Кол-во слов в запросе: 3 распределение: 50.0 %\n"
     ]
    }
   ],
   "source": [
    "for i in range(len(quantity_word)):\n",
    "    print(\"Кол-во слов в запросе:\", quantity_word[i], \"распределение:\", round(count_words_queries.count(quantity_word[i])/len(queries)*100,3),'%')\n"
   ]
  },
  {
   "cell_type": "markdown",
   "metadata": {},
   "source": [
    "## Задание 4\n",
    "Дана статистика рекламных каналов по объемам продаж. Напишите скрипт, который возвращает название канала с максимальным объемом. Т. е. в данном примере скрипт должен возвращать 'yandex'. stats = {'facebook': 55, 'yandex': 120, 'vk': 115, 'google': 99, 'email': 42, 'ok': 98}"
   ]
  },
  {
   "cell_type": "code",
   "execution_count": 257,
   "metadata": {},
   "outputs": [],
   "source": [
    "stats = {'facebook': 55, 'yandex': 120, 'vk': 115, 'google': 99, 'email': 42, 'ok': 98}"
   ]
  },
  {
   "cell_type": "markdown",
   "metadata": {},
   "source": [
    "Сортируем словарь, используя лямбда функцию, с помощью которой можно обратиться к значениям в словарях и провести сортировку именно по значеиям. \n",
    "Извлекаем из конца отсортированного списка интересующий нас элемент"
   ]
  },
  {
   "cell_type": "code",
   "execution_count": 265,
   "metadata": {},
   "outputs": [
    {
     "data": {
      "text/plain": [
       "'yandex'"
      ]
     },
     "execution_count": 265,
     "metadata": {},
     "output_type": "execute_result"
    }
   ],
   "source": [
    "stats_sort=sorted(stats.items(), key=lambda x: x[1])\n",
    "stats_sort[-1][0]"
   ]
  },
  {
   "cell_type": "markdown",
   "metadata": {},
   "source": [
    "Более локаничное решение данной задачи"
   ]
  },
  {
   "cell_type": "code",
   "execution_count": 267,
   "metadata": {},
   "outputs": [
    {
     "data": {
      "text/plain": [
       "'yandex'"
      ]
     },
     "execution_count": 267,
     "metadata": {},
     "output_type": "execute_result"
    }
   ],
   "source": [
    "max(stats, key=stats.get)"
   ]
  },
  {
   "cell_type": "markdown",
   "metadata": {},
   "source": [
    "## Задание 5\n",
    "Дан поток логов по количеству просмотренных страниц для каждого пользователя. Список отсортирован по ID пользователя. Вам необходимо написать алгоритм, который считает среднее значение просмотров на пользователя. Т. е. надо посчитать отношение суммы всех просмотров к количеству уникальных пользователей. Учтите, что весь список stream не помещается в оперативную память, т. е. его нужно обрабатывать поэлементно в цикле. stream = [ '2018-01-01,user1,3', '2018-01-07,user1,4', '2018-03-29,user1,1', '2018-04-04,user1,13', '2018-01-05,user2,7', '2018-06-14,user3,4', '2018-07-02,user3,10', '2018-03-21,user4,19', '2018-03-22,user4,4', '2018-04-22,user4,8', '2018-05-03,user4,9', '2018-05-11,user4,11', ]"
   ]
  },
  {
   "cell_type": "code",
   "execution_count": 68,
   "metadata": {
    "scrolled": false
   },
   "outputs": [
    {
     "data": {
      "text/plain": [
       "['2018-01-01,user1,3',\n",
       " '2018-01-07,user1,4',\n",
       " '2018-03-29,user1,1',\n",
       " '2018-04-04,user1,13',\n",
       " '2018-01-05,user2,7',\n",
       " '2018-06-14,user3,4',\n",
       " '2018-07-02,user3,10',\n",
       " '2018-03-21,user4,19',\n",
       " '2018-03-22,user4,4',\n",
       " '2018-04-22,user4,8',\n",
       " '2018-05-03,user4,9',\n",
       " '2018-05-11,user4,11']"
      ]
     },
     "execution_count": 68,
     "metadata": {},
     "output_type": "execute_result"
    }
   ],
   "source": [
    "stream = [ '2018-01-01,user1,3', '2018-01-07,user1,4', '2018-03-29,user1,1', '2018-04-04,user1,13', '2018-01-05,user2,7', '2018-06-14,user3,4', '2018-07-02,user3,10', '2018-03-21,user4,19', '2018-03-22,user4,4', '2018-04-22,user4,8', '2018-05-03,user4,9', '2018-05-11,user4,11', ]\n",
    "stream"
   ]
  },
  {
   "cell_type": "code",
   "execution_count": 95,
   "metadata": {},
   "outputs": [
    {
     "name": "stdout",
     "output_type": "stream",
     "text": [
      "Отношение суммы всех просмотров к количеству уникальных пользователей = 23.25\n"
     ]
    }
   ],
   "source": [
    "all_wathings=0\n",
    "uniq_users=0\n",
    "for i in range(len(stream)):\n",
    "    all_wathings=all_wathings+int(stream[i].split(',')[2])   \n",
    "    \n",
    "    if stream[i-1].split(',')[1] != stream[i].split(',')[1]:\n",
    "        uniq_users += 1\n",
    "    \n",
    "print('Отношение суммы всех просмотров к количеству уникальных пользователей =', all_wathings/list_of_uniq)          \n"
   ]
  },
  {
   "cell_type": "markdown",
   "metadata": {},
   "source": [
    "##  Задание 6\n",
    "\n",
    "Дана статистика рекламных кампаний по дням. Напишите алгоритм, который по паре дата-кампания ищет значение численного столбца. Т. е. для даты '2018-01-01' и 'google' нужно получить число 25. Считайте, что все комбинации дата-кампания уникальны, а список stats легко помещается в оперативной памяти. stats = [ ['2018-01-01', 'google', 25], ['2018-01-01', 'yandex', 65], ['2018-01-01', 'market', 89], ['2018-01-02', 'google', 574], ['2018-01-02', 'yandex', 249], ['2018-01-02', 'market', 994], ['2018-01-03', 'google', 1843], ['2018-01-03', 'yandex', 1327], ['2018-01-03', 'market', 1764], ]"
   ]
  },
  {
   "cell_type": "code",
   "execution_count": 2,
   "metadata": {},
   "outputs": [],
   "source": [
    "stats = [ ['2018-01-01', 'google', 25], ['1','2',3], ['2018-01-01', 'yandex', 65], ['2018-01-01', 'market', 89], ['2018-01-02', 'google', 574], ['2018-01-02', 'yandex', 249], ['2018-01-02', 'market', 994], ['2018-01-03', 'google', 1843], ['2018-01-03', 'yandex', 1327], ['2018-01-03', 'market', 1764], ]"
   ]
  },
  {
   "cell_type": "code",
   "execution_count": 29,
   "metadata": {},
   "outputs": [
    {
     "data": {
      "text/plain": [
       "[['2018-01-01', 'google', 25],\n",
       " ['1', '2', 3],\n",
       " ['2018-01-01', 'yandex', 65],\n",
       " ['2018-01-01', 'market', 89],\n",
       " ['2018-01-02', 'google', 574],\n",
       " ['2018-01-02', 'yandex', 249],\n",
       " ['2018-01-02', 'market', 994],\n",
       " ['2018-01-03', 'google', 1843],\n",
       " ['2018-01-03', 'yandex', 1327],\n",
       " ['2018-01-03', 'market', 1764]]"
      ]
     },
     "execution_count": 29,
     "metadata": {},
     "output_type": "execute_result"
    }
   ],
   "source": [
    "stats"
   ]
  },
  {
   "cell_type": "markdown",
   "metadata": {},
   "source": []
  },
  {
   "cell_type": "code",
   "execution_count": 37,
   "metadata": {},
   "outputs": [
    {
     "name": "stdout",
     "output_type": "stream",
     "text": [
      "inter date_time, example - 2018-01-01 1\n",
      "inter company, example - yandex 2\n",
      "3\n"
     ]
    }
   ],
   "source": [
    "# Вводим данные: дату и компанию, далее поступит значение, котрому соотвествует пара. strip() удаляет пробелы, которые возможно были при вводе данных\n",
    "\n",
    "date_time = input('inter date_time, example - 2018-01-01 ') \n",
    "company = input('inter company, example - yandex ') \n",
    "\n",
    "for i in range(len(stats)): \n",
    "    if company.strip() in stats[i][1] and date_time.strip() in stats[i][0]: \n",
    "        print(stats[i][2]) \n",
    "        break\n",
    "\n",
    "else:\n",
    "    print('нет такой комбинации')\n",
    "        \n",
    "    "
   ]
  }
 ],
 "metadata": {
  "kernelspec": {
   "display_name": "Python 3",
   "language": "python",
   "name": "python3"
  },
  "language_info": {
   "codemirror_mode": {
    "name": "ipython",
    "version": 3
   },
   "file_extension": ".py",
   "mimetype": "text/x-python",
   "name": "python",
   "nbconvert_exporter": "python",
   "pygments_lexer": "ipython3",
   "version": "3.7.1"
  }
 },
 "nbformat": 4,
 "nbformat_minor": 2
}
